{
 "cells": [
  {
   "cell_type": "markdown",
   "id": "58d3e07e",
   "metadata": {},
   "source": [
    "# Solution Notebook"
   ]
  },
  {
   "cell_type": "code",
   "execution_count": null,
   "id": "23cbb14d",
   "metadata": {},
   "outputs": [],
   "source": [
    "import numpy as np                             \n",
    "import pandas as pd                             \n",
    "import matplotlib.pyplot as plt                             \n",
    "import seaborn as sns"
   ]
  }
 ],
 "metadata": {},
 "nbformat": 4,
 "nbformat_minor": 5
}
